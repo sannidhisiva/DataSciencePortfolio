{
 "cells": [
  {
   "cell_type": "markdown",
   "metadata": {},
   "source": [
    "### Project Description: Twitter US Airline Sentiment"
   ]
  },
  {
   "cell_type": "markdown",
   "metadata": {},
   "source": [
    "## Description: \n",
    "Data Description: A sentiment analysis job about the problems of each major U.S. airline. Twitter data was scraped from\n",
    "\n",
    "February of 2015 and contributors were asked to first classify positive, negative, and neutral tweets, followed\n",
    "\n",
    "by categorizing negative reasons (such as \"late flight\" or \"rude service\").\n",
    "\n",
    "Dataset: The project is from a dataset from Kaggle.\n",
    "\n",
    "Link to the Kaggle project site: https://www.kaggle.com/crowdflower/twitter-airline-sentiment\n",
    "\n",
    "The dataset has to be downloaded from the above Kaggle website.\n",
    "\n",
    "The dataset has the following columns:\n",
    "\n",
    " tweet_id\n",
    "\n",
    " airline_sentiment\n",
    "\n",
    " airline_sentiment_confidence\n",
    "\n",
    " negativereason\n",
    "\n",
    " negativereason_confidence\n",
    "\n",
    " airline\n",
    "\n",
    " airline_sentiment_gold\n",
    "\n",
    " name\n",
    "\n",
    " negativereason_gold\n",
    "\n",
    " retweet_count\n",
    "\n",
    " text\n",
    "\n",
    " tweet_coord\n",
    "\n",
    " tweet_created\n",
    "\n",
    " tweet_location\n",
    "\n",
    " user_timezone\n",
    "\n",
    "Learning Outcomes:\n",
    " Basic understanding of text pre-processing.\n",
    "\n",
    " What to do after text pre-processing:\n",
    "\n",
    "o Bag of words\n",
    "\n",
    "o Tf-idf\n",
    "\n",
    " Build the classification model.\n",
    "\n",
    " Evaluate the Model.\n"
   ]
  },
  {
   "cell_type": "markdown",
   "metadata": {},
   "source": [
    "#### GitHub Link:\n",
    "https://github.com/GreatLearningAIML1/gl-pgp-aiml-uta-intl-jul20-sannidhisiva/tree/master/NLP"
   ]
  },
  {
   "cell_type": "markdown",
   "metadata": {},
   "source": [
    "## 1. Import the libraries, load dataset, print shape of data, data description."
   ]
  },
  {
   "cell_type": "code",
   "execution_count": 1,
   "metadata": {},
   "outputs": [],
   "source": [
    "import warnings \n",
    "warnings.filterwarnings('ignore')"
   ]
  },
  {
   "cell_type": "code",
   "execution_count": 2,
   "metadata": {},
   "outputs": [
    {
     "name": "stderr",
     "output_type": "stream",
     "text": [
      "[nltk_data] Downloading package stopwords to\n",
      "[nltk_data]     C:\\Users\\SESA431682\\AppData\\Roaming\\nltk_data...\n",
      "[nltk_data]   Package stopwords is already up-to-date!\n"
     ]
    }
   ],
   "source": [
    "# Import Libraries\n",
    "import numpy as np\n",
    "import pandas as pd \n",
    "# Visualization library\n",
    "import seaborn as sns\n",
    "import matplotlib.pyplot as plt\n",
    "%matplotlib inline\n",
    "sns.set_color_codes(\"dark\")\n",
    "# Import language processing libraries\n",
    "from datetime import datetime\n",
    "from bs4 import BeautifulSoup\n",
    "import unicodedata, nltk\n",
    "import spacy\n",
    "import re\n",
    "from nltk.corpus import stopwords                 # Import stopwords.\n",
    "nltk.download('stopwords')\n",
    "from nltk.tokenize.toktok import ToktokTokenizer  # Import Tokenizer.\n",
    "\n",
    "# Import Tensorflow \n",
    "import tensorflow as tf\n",
    "from tensorflow.keras import optimizers, losses\n",
    "from tensorflow.keras.models import Sequential\n",
    "from tensorflow.keras.layers import InputLayer, Dense, Activation, BatchNormalization\n",
    "from tensorflow.keras.metrics import Precision, Recall\n",
    "\n",
    "# sklearn imports\n",
    "from sklearn.feature_extraction.text import CountVectorizer, TfidfVectorizer\n",
    "from sklearn.preprocessing import RobustScaler\n",
    "from sklearn.model_selection import train_test_split, cross_val_score\n",
    "from sklearn.ensemble import RandomForestClassifier\n",
    "\n"
   ]
  },
  {
   "cell_type": "code",
   "execution_count": 3,
   "metadata": {},
   "outputs": [
    {
     "data": {
      "text/html": [
       "<style>.container { width:98% !important; }</style>"
      ],
      "text/plain": [
       "<IPython.core.display.HTML object>"
      ]
     },
     "metadata": {},
     "output_type": "display_data"
    }
   ],
   "source": [
    "SEED=48\n",
    "FOLDS=12\n",
    "\n",
    "# Adjust pandas display and formatting settings\n",
    "\n",
    "# Remove scientific notations and display numbers with 2 decimal points instead\n",
    "pd.options.display.float_format = '{:,.2f}'.format        \n",
    "\n",
    "# Increase cell width\n",
    "from IPython.core.display import display, HTML\n",
    "display(HTML(\"<style>.container { width:98% !important; }</style>\"))\n",
    "\n",
    "# Update default style and size of charts\n",
    "plt.style.use('ggplot')\n",
    "plt.rcParams['figure.figsize'] = [20, 15]\n",
    "\n",
    "# Increase max number of rows and columns to display in pandas tables\n",
    "pd.set_option('display.max_columns', 500)           \n",
    "pd.set_option('display.max_rows', 500)"
   ]
  },
  {
   "cell_type": "code",
   "execution_count": 4,
   "metadata": {},
   "outputs": [
    {
     "data": {
      "text/html": [
       "<div>\n",
       "<style scoped>\n",
       "    .dataframe tbody tr th:only-of-type {\n",
       "        vertical-align: middle;\n",
       "    }\n",
       "\n",
       "    .dataframe tbody tr th {\n",
       "        vertical-align: top;\n",
       "    }\n",
       "\n",
       "    .dataframe thead th {\n",
       "        text-align: right;\n",
       "    }\n",
       "</style>\n",
       "<table border=\"1\" class=\"dataframe\">\n",
       "  <thead>\n",
       "    <tr style=\"text-align: right;\">\n",
       "      <th></th>\n",
       "      <th>tweet_id</th>\n",
       "      <th>airline_sentiment</th>\n",
       "      <th>airline_sentiment_confidence</th>\n",
       "      <th>negativereason</th>\n",
       "      <th>negativereason_confidence</th>\n",
       "      <th>airline</th>\n",
       "      <th>airline_sentiment_gold</th>\n",
       "      <th>name</th>\n",
       "      <th>negativereason_gold</th>\n",
       "      <th>retweet_count</th>\n",
       "      <th>text</th>\n",
       "      <th>tweet_coord</th>\n",
       "      <th>tweet_created</th>\n",
       "      <th>tweet_location</th>\n",
       "      <th>user_timezone</th>\n",
       "    </tr>\n",
       "  </thead>\n",
       "  <tbody>\n",
       "    <tr>\n",
       "      <th>0</th>\n",
       "      <td>570306133677760513</td>\n",
       "      <td>neutral</td>\n",
       "      <td>1.00</td>\n",
       "      <td>NaN</td>\n",
       "      <td>nan</td>\n",
       "      <td>Virgin America</td>\n",
       "      <td>NaN</td>\n",
       "      <td>cairdin</td>\n",
       "      <td>NaN</td>\n",
       "      <td>0</td>\n",
       "      <td>@VirginAmerica What @dhepburn said.</td>\n",
       "      <td>NaN</td>\n",
       "      <td>2015-02-24 11:35:52 -0800</td>\n",
       "      <td>NaN</td>\n",
       "      <td>Eastern Time (US &amp; Canada)</td>\n",
       "    </tr>\n",
       "    <tr>\n",
       "      <th>1</th>\n",
       "      <td>570301130888122368</td>\n",
       "      <td>positive</td>\n",
       "      <td>0.35</td>\n",
       "      <td>NaN</td>\n",
       "      <td>0.00</td>\n",
       "      <td>Virgin America</td>\n",
       "      <td>NaN</td>\n",
       "      <td>jnardino</td>\n",
       "      <td>NaN</td>\n",
       "      <td>0</td>\n",
       "      <td>@VirginAmerica plus you've added commercials t...</td>\n",
       "      <td>NaN</td>\n",
       "      <td>2015-02-24 11:15:59 -0800</td>\n",
       "      <td>NaN</td>\n",
       "      <td>Pacific Time (US &amp; Canada)</td>\n",
       "    </tr>\n",
       "    <tr>\n",
       "      <th>2</th>\n",
       "      <td>570301083672813571</td>\n",
       "      <td>neutral</td>\n",
       "      <td>0.68</td>\n",
       "      <td>NaN</td>\n",
       "      <td>nan</td>\n",
       "      <td>Virgin America</td>\n",
       "      <td>NaN</td>\n",
       "      <td>yvonnalynn</td>\n",
       "      <td>NaN</td>\n",
       "      <td>0</td>\n",
       "      <td>@VirginAmerica I didn't today... Must mean I n...</td>\n",
       "      <td>NaN</td>\n",
       "      <td>2015-02-24 11:15:48 -0800</td>\n",
       "      <td>Lets Play</td>\n",
       "      <td>Central Time (US &amp; Canada)</td>\n",
       "    </tr>\n",
       "    <tr>\n",
       "      <th>3</th>\n",
       "      <td>570301031407624196</td>\n",
       "      <td>negative</td>\n",
       "      <td>1.00</td>\n",
       "      <td>Bad Flight</td>\n",
       "      <td>0.70</td>\n",
       "      <td>Virgin America</td>\n",
       "      <td>NaN</td>\n",
       "      <td>jnardino</td>\n",
       "      <td>NaN</td>\n",
       "      <td>0</td>\n",
       "      <td>@VirginAmerica it's really aggressive to blast...</td>\n",
       "      <td>NaN</td>\n",
       "      <td>2015-02-24 11:15:36 -0800</td>\n",
       "      <td>NaN</td>\n",
       "      <td>Pacific Time (US &amp; Canada)</td>\n",
       "    </tr>\n",
       "    <tr>\n",
       "      <th>4</th>\n",
       "      <td>570300817074462722</td>\n",
       "      <td>negative</td>\n",
       "      <td>1.00</td>\n",
       "      <td>Can't Tell</td>\n",
       "      <td>1.00</td>\n",
       "      <td>Virgin America</td>\n",
       "      <td>NaN</td>\n",
       "      <td>jnardino</td>\n",
       "      <td>NaN</td>\n",
       "      <td>0</td>\n",
       "      <td>@VirginAmerica and it's a really big bad thing...</td>\n",
       "      <td>NaN</td>\n",
       "      <td>2015-02-24 11:14:45 -0800</td>\n",
       "      <td>NaN</td>\n",
       "      <td>Pacific Time (US &amp; Canada)</td>\n",
       "    </tr>\n",
       "  </tbody>\n",
       "</table>\n",
       "</div>"
      ],
      "text/plain": [
       "             tweet_id airline_sentiment  airline_sentiment_confidence  \\\n",
       "0  570306133677760513           neutral                          1.00   \n",
       "1  570301130888122368          positive                          0.35   \n",
       "2  570301083672813571           neutral                          0.68   \n",
       "3  570301031407624196          negative                          1.00   \n",
       "4  570300817074462722          negative                          1.00   \n",
       "\n",
       "  negativereason  negativereason_confidence         airline  \\\n",
       "0            NaN                        nan  Virgin America   \n",
       "1            NaN                       0.00  Virgin America   \n",
       "2            NaN                        nan  Virgin America   \n",
       "3     Bad Flight                       0.70  Virgin America   \n",
       "4     Can't Tell                       1.00  Virgin America   \n",
       "\n",
       "  airline_sentiment_gold        name negativereason_gold  retweet_count  \\\n",
       "0                    NaN     cairdin                 NaN              0   \n",
       "1                    NaN    jnardino                 NaN              0   \n",
       "2                    NaN  yvonnalynn                 NaN              0   \n",
       "3                    NaN    jnardino                 NaN              0   \n",
       "4                    NaN    jnardino                 NaN              0   \n",
       "\n",
       "                                                text tweet_coord  \\\n",
       "0                @VirginAmerica What @dhepburn said.         NaN   \n",
       "1  @VirginAmerica plus you've added commercials t...         NaN   \n",
       "2  @VirginAmerica I didn't today... Must mean I n...         NaN   \n",
       "3  @VirginAmerica it's really aggressive to blast...         NaN   \n",
       "4  @VirginAmerica and it's a really big bad thing...         NaN   \n",
       "\n",
       "               tweet_created tweet_location               user_timezone  \n",
       "0  2015-02-24 11:35:52 -0800            NaN  Eastern Time (US & Canada)  \n",
       "1  2015-02-24 11:15:59 -0800            NaN  Pacific Time (US & Canada)  \n",
       "2  2015-02-24 11:15:48 -0800      Lets Play  Central Time (US & Canada)  \n",
       "3  2015-02-24 11:15:36 -0800            NaN  Pacific Time (US & Canada)  \n",
       "4  2015-02-24 11:14:45 -0800            NaN  Pacific Time (US & Canada)  "
      ]
     },
     "execution_count": 4,
     "metadata": {},
     "output_type": "execute_result"
    }
   ],
   "source": [
    "# Load the data set and review \n",
    "df = pd.read_csv('Tweets.csv')\n",
    "df.head()"
   ]
  },
  {
   "cell_type": "code",
   "execution_count": 5,
   "metadata": {},
   "outputs": [
    {
     "data": {
      "text/plain": [
       "(14640, 15)"
      ]
     },
     "execution_count": 5,
     "metadata": {},
     "output_type": "execute_result"
    }
   ],
   "source": [
    "df.shape"
   ]
  },
  {
   "cell_type": "code",
   "execution_count": 6,
   "metadata": {},
   "outputs": [
    {
     "name": "stdout",
     "output_type": "stream",
     "text": [
      "<class 'pandas.core.frame.DataFrame'>\n",
      "RangeIndex: 14640 entries, 0 to 14639\n",
      "Data columns (total 15 columns):\n",
      " #   Column                        Non-Null Count  Dtype  \n",
      "---  ------                        --------------  -----  \n",
      " 0   tweet_id                      14640 non-null  int64  \n",
      " 1   airline_sentiment             14640 non-null  object \n",
      " 2   airline_sentiment_confidence  14640 non-null  float64\n",
      " 3   negativereason                9178 non-null   object \n",
      " 4   negativereason_confidence     10522 non-null  float64\n",
      " 5   airline                       14640 non-null  object \n",
      " 6   airline_sentiment_gold        40 non-null     object \n",
      " 7   name                          14640 non-null  object \n",
      " 8   negativereason_gold           32 non-null     object \n",
      " 9   retweet_count                 14640 non-null  int64  \n",
      " 10  text                          14640 non-null  object \n",
      " 11  tweet_coord                   1019 non-null   object \n",
      " 12  tweet_created                 14640 non-null  object \n",
      " 13  tweet_location                9907 non-null   object \n",
      " 14  user_timezone                 9820 non-null   object \n",
      "dtypes: float64(2), int64(2), object(11)\n",
      "memory usage: 1.7+ MB\n"
     ]
    }
   ],
   "source": [
    "df.info()"
   ]
  },
  {
   "cell_type": "code",
   "execution_count": 7,
   "metadata": {},
   "outputs": [
    {
     "name": "stdout",
     "output_type": "stream",
     "text": [
      "Number of duplicate records in the dataset: 36\n"
     ]
    }
   ],
   "source": [
    "#  Check for any duplicates\n",
    "print(\"Number of duplicate records in the dataset: {0}\".format(df.duplicated().sum()))"
   ]
  },
  {
   "cell_type": "markdown",
   "metadata": {},
   "source": [
    "## 2. Understand of data-columns: \n",
    "- Drop all other columns except “text” and “airline_sentiment”.\n",
    "- Check the shape of data.\n",
    "- Print first 5 rows of data."
   ]
  },
  {
   "cell_type": "code",
   "execution_count": 8,
   "metadata": {},
   "outputs": [
    {
     "data": {
      "text/html": [
       "<div>\n",
       "<style scoped>\n",
       "    .dataframe tbody tr th:only-of-type {\n",
       "        vertical-align: middle;\n",
       "    }\n",
       "\n",
       "    .dataframe tbody tr th {\n",
       "        vertical-align: top;\n",
       "    }\n",
       "\n",
       "    .dataframe thead th {\n",
       "        text-align: right;\n",
       "    }\n",
       "</style>\n",
       "<table border=\"1\" class=\"dataframe\">\n",
       "  <thead>\n",
       "    <tr style=\"text-align: right;\">\n",
       "      <th></th>\n",
       "      <th>text</th>\n",
       "      <th>airline_sentiment</th>\n",
       "    </tr>\n",
       "  </thead>\n",
       "  <tbody>\n",
       "    <tr>\n",
       "      <th>0</th>\n",
       "      <td>@VirginAmerica What @dhepburn said.</td>\n",
       "      <td>neutral</td>\n",
       "    </tr>\n",
       "    <tr>\n",
       "      <th>1</th>\n",
       "      <td>@VirginAmerica plus you've added commercials t...</td>\n",
       "      <td>positive</td>\n",
       "    </tr>\n",
       "    <tr>\n",
       "      <th>2</th>\n",
       "      <td>@VirginAmerica I didn't today... Must mean I n...</td>\n",
       "      <td>neutral</td>\n",
       "    </tr>\n",
       "    <tr>\n",
       "      <th>3</th>\n",
       "      <td>@VirginAmerica it's really aggressive to blast...</td>\n",
       "      <td>negative</td>\n",
       "    </tr>\n",
       "    <tr>\n",
       "      <th>4</th>\n",
       "      <td>@VirginAmerica and it's a really big bad thing...</td>\n",
       "      <td>negative</td>\n",
       "    </tr>\n",
       "  </tbody>\n",
       "</table>\n",
       "</div>"
      ],
      "text/plain": [
       "                                                text airline_sentiment\n",
       "0                @VirginAmerica What @dhepburn said.           neutral\n",
       "1  @VirginAmerica plus you've added commercials t...          positive\n",
       "2  @VirginAmerica I didn't today... Must mean I n...           neutral\n",
       "3  @VirginAmerica it's really aggressive to blast...          negative\n",
       "4  @VirginAmerica and it's a really big bad thing...          negative"
      ]
     },
     "execution_count": 8,
     "metadata": {},
     "output_type": "execute_result"
    }
   ],
   "source": [
    "df_filtered = df.loc[:,['text', 'airline_sentiment']]\n",
    "df_filtered.head()"
   ]
  },
  {
   "cell_type": "code",
   "execution_count": 9,
   "metadata": {},
   "outputs": [
    {
     "data": {
      "text/plain": [
       "(14640, 2)"
      ]
     },
     "execution_count": 9,
     "metadata": {},
     "output_type": "execute_result"
    }
   ],
   "source": [
    "# Check the shape of the filtered data set\n",
    "df_filtered.shape"
   ]
  },
  {
   "cell_type": "markdown",
   "metadata": {},
   "source": [
    "## 3. Text pre-processing: Data preparation\n",
    "- Html tag removal.\n",
    "- Tokenization.\n",
    "- Remove the numbers.\n",
    "- Removal of Special Characters and Punctuations.\n",
    "- Conversion to lowercase.\n",
    "- Lemmatize or stemming.\n",
    "- Join the words in the list to convert back to text string in the dataframe. (So that each row contains the data in text format.)\n",
    "- Print first 5 rows of data after pre-processing."
   ]
  },
  {
   "cell_type": "code",
   "execution_count": 10,
   "metadata": {},
   "outputs": [
    {
     "name": "stdout",
     "output_type": "stream",
     "text": [
      "Number of duplicated records available in filtered dataset: 188\n",
      "Shape of filtered data set after dropping duplicates: (14452, 2)\n"
     ]
    }
   ],
   "source": [
    "print(\"Number of duplicated records available in filtered dataset: {}\".format(df_filtered.duplicated().sum()))\n",
    "df_filtered.drop_duplicates(inplace=True)\n",
    "print(\"Shape of filtered data set after dropping duplicates: {}\".format(df_filtered.shape))\n"
   ]
  },
  {
   "cell_type": "code",
   "execution_count": 11,
   "metadata": {},
   "outputs": [
    {
     "name": "stderr",
     "output_type": "stream",
     "text": [
      "[nltk_data] Downloading package punkt to\n",
      "[nltk_data]     C:\\Users\\SESA431682\\AppData\\Roaming\\nltk_data...\n",
      "[nltk_data]   Package punkt is already up-to-date!\n",
      "[nltk_data] Downloading package wordnet to\n",
      "[nltk_data]     C:\\Users\\SESA431682\\AppData\\Roaming\\nltk_data...\n",
      "[nltk_data]   Package wordnet is already up-to-date!\n",
      "[nltk_data] Downloading package stopwords to\n",
      "[nltk_data]     C:\\Users\\SESA431682\\AppData\\Roaming\\nltk_data...\n",
      "[nltk_data]   Package stopwords is already up-to-date!\n"
     ]
    }
   ],
   "source": [
    "import nltk \n",
    "import nltk.corpus\n",
    "from nltk.corpus import stopwords\n",
    "from nltk.tokenize import BlanklineTokenizer\n",
    "from nltk.tokenize import TweetTokenizer\n",
    "nltk.download('punkt')\n",
    "nltk.download('wordnet')\n",
    "nltk.download('stopwords')\n",
    "from nltk.stem import WordNetLemmatizer\n",
    "import string"
   ]
  },
  {
   "cell_type": "code",
   "execution_count": 12,
   "metadata": {},
   "outputs": [],
   "source": [
    "stop_words_en = set(stopwords.words('english'))\n",
    "lemmatizer = WordNetLemmatizer()\n",
    "\n",
    "def review_sanitizer(review):\n",
    "    review = BeautifulSoup(review).get_text()\n",
    "    \n",
    "    review = unicodedata.normalize('NFKD',review).encode('ascii','ignore').decode('utf-8','ignore')\n",
    "    \n",
    "    # Remove any URLs, if there\n",
    "    review = re.sub(r'((http|https)\\:\\/\\/)?[a-zA-Z0-9\\.\\/\\?\\:@\\-_=#]+\\.([a-zA-Z]){2,6}([a-zA-Z0-9\\.\\&\\/\\?\\:@\\-_=#])*',' ', review, flags=re.MULTILINE)\n",
    "    \n",
    "    # Remove special characters, punctuations and numbers\n",
    "    review = re.sub(\"[^a-zA-Z]\",\" \", review)\n",
    "    \n",
    "    # Tokenize, convert to lower case and return the words back\n",
    "    words = [word.lower() for word in ToktokTokenizer().tokenize(review)]\n",
    "    \n",
    "    # Treat this with removal of stop words\n",
    "    words_needed = [word for word in words if not word in stop_words_en]\n",
    "    # Make the complete sentence with 'join'\n",
    "    words_needed = \" \".join(words_needed)\n",
    "    #Lemmatize the sentence\n",
    "    text_twitted = lemmatizer.lemmatize(words_needed)\n",
    "    return text_twitted\n",
    "    "
   ]
  },
  {
   "cell_type": "code",
   "execution_count": 13,
   "metadata": {},
   "outputs": [
    {
     "name": "stdout",
     "output_type": "stream",
     "text": [
      "Raw review: @VirginAmerica What @dhepburn said.\n",
      "Processed review: virginamerica dhepburn said\n",
      " \n",
      " \n",
      "Raw review: @VirginAmerica plus you've added commercials to the experience... tacky.\n",
      "Processed review: virginamerica plus added commercials experience tacky\n",
      " \n",
      " \n",
      "Raw review: @VirginAmerica I didn't today... Must mean I need to take another trip!\n",
      "Processed review: virginamerica today must mean need take another trip\n",
      " \n",
      " \n",
      "Raw review: @VirginAmerica it's really aggressive to blast obnoxious \"entertainment\" in your guests' faces &amp; they have little recourse\n",
      "Processed review: virginamerica really aggressive blast obnoxious entertainment guests faces little recourse\n",
      " \n",
      " \n",
      "Raw review: @VirginAmerica and it's a really big bad thing about it\n",
      "Processed review: virginamerica really big bad thing\n",
      " \n",
      " \n",
      "Raw review: @VirginAmerica seriously would pay $30 a flight for seats that didn't have this playing.\n",
      "it's really the only bad thing about flying VA\n",
      "Processed review: virginamerica seriously would pay flight seats playing really bad thing flying va\n",
      " \n",
      " \n"
     ]
    }
   ],
   "source": [
    "# To make sure above method is working as expected, let's test it. print first five reviews as requested.\n",
    "for idx in range (0,6):\n",
    "    raw_review = df_filtered['text'][idx]\n",
    "    processed_review = review_sanitizer(raw_review)\n",
    "    print(\"Raw review: {}\".format(raw_review))\n",
    "    print(\"Processed review: {}\".format(processed_review))\n",
    "    print(\" \")\n",
    "    print(\" \")"
   ]
  },
  {
   "cell_type": "code",
   "execution_count": 14,
   "metadata": {},
   "outputs": [
    {
     "name": "stdout",
     "output_type": "stream",
     "text": [
      " \n",
      "Shape:                                           processed_text  negative  neutral  \\\n",
      "0                            virginamerica dhepburn said         0        1   \n",
      "1      virginamerica plus added commercials experienc...         0        0   \n",
      "2      virginamerica today must mean need take anothe...         0        1   \n",
      "3      virginamerica really aggressive blast obnoxiou...         1        0   \n",
      "4                     virginamerica really big bad thing         1        0   \n",
      "...                                                  ...       ...      ...   \n",
      "14635     americanair thank got different flight chicago         0        0   \n",
      "14636  americanair leaving minutes late flight warnin...         1        0   \n",
      "14637  americanair please bring american airlines bla...         0        1   \n",
      "14638  americanair money change flight answer phones ...         1        0   \n",
      "14639  americanair ppl need know many seats next flig...         0        1   \n",
      "\n",
      "       positive  \n",
      "0             0  \n",
      "1             1  \n",
      "2             0  \n",
      "3             0  \n",
      "4             0  \n",
      "...         ...  \n",
      "14635         1  \n",
      "14636         0  \n",
      "14637         0  \n",
      "14638         0  \n",
      "14639         0  \n",
      "\n",
      "[14452 rows x 4 columns]\n"
     ]
    }
   ],
   "source": [
    "# Let's update the whole data set with the procedure defined above\n",
    "processed_reviews = [review_sanitizer(review) for review in df_filtered['text'].to_list()]\n",
    "df_filtered['processed_text'] = processed_reviews\n",
    "# generate onehot encoding for the sentiment analysis values\n",
    "df_final = pd.get_dummies(df_filtered, columns=['airline_sentiment'], prefix='', prefix_sep='')\n",
    "# drop unwanted columns\n",
    "df_final = df_final.drop(columns=['text'])\n",
    "df_final.head()\n",
    "print(\" \")\n",
    "print(\"Shape: {}\".format(df_final))"
   ]
  },
  {
   "cell_type": "markdown",
   "metadata": {},
   "source": [
    "# 4. Vectorization\n",
    "### Use CountVectorizer.\n",
    "### Use TfidfVectorizer."
   ]
  },
  {
   "cell_type": "markdown",
   "metadata": {},
   "source": [
    "### 1.Count Vectorizer:"
   ]
  },
  {
   "cell_type": "code",
   "execution_count": 15,
   "metadata": {},
   "outputs": [
    {
     "name": "stdout",
     "output_type": "stream",
     "text": [
      "Number of reviews: 14452\n",
      "Number of features: 11774\n"
     ]
    }
   ],
   "source": [
    "# Use countvectorizer on the final dataset.\n",
    "vctzr = CountVectorizer(analyzer = 'word', tokenizer = None, preprocessor=None, stop_words=None)\n",
    "features = vctzr.fit_transform(processed_reviews).toarray()\n",
    "print(\"Number of reviews: {0}\".format(features.shape[0]))\n",
    "print(\"Number of features: {0}\".format(features.shape[1]))"
   ]
  },
  {
   "cell_type": "code",
   "execution_count": 16,
   "metadata": {},
   "outputs": [
    {
     "name": "stdout",
     "output_type": "stream",
     "text": [
      "('united', 4145) ('flight', 3902) ('usairways', 3037) ('americanair', 2815) ('southwestair', 2450)\n"
     ]
    }
   ],
   "source": [
    "names = vctzr.get_feature_names()\n",
    "f = np.sum(features, axis=0)\n",
    "names_f_sorted = sorted([(x,y) for x, y in zip(names,f)], key=lambda x: x[1], reverse=True)\n",
    "print(*names_f_sorted[0:5])"
   ]
  },
  {
   "cell_type": "code",
   "execution_count": 17,
   "metadata": {},
   "outputs": [
    {
     "name": "stdout",
     "output_type": "stream",
     "text": [
      "X Train shape: (11561, 11774)\n",
      "y Train shape: (11561, 3)\n",
      " \n",
      "X test shape: (2891, 11774)\n",
      "y test shape: (2891, 3)\n"
     ]
    }
   ],
   "source": [
    "\n",
    "X = features\n",
    "y = df_final.iloc[:,1:] \n",
    "y = np.array(y)\n",
    "\n",
    "X_train, X_test, y_train, y_test = train_test_split(X, y, test_size=0.20, random_state=SEED, stratify=y)\n",
    "\n",
    "# Check the shapes for Train/Test data\n",
    "print(\"X Train shape: {}\".format(X_train.shape))\n",
    "print(\"y Train shape: {}\".format(y_train.shape))\n",
    "print(\" \")\n",
    "print(\"X test shape: {}\".format(X_test.shape))\n",
    "print(\"y test shape: {}\".format(y_test.shape))\n"
   ]
  },
  {
   "cell_type": "markdown",
   "metadata": {},
   "source": [
    "## 5. Fit and evaluate model using both type of vectorization\n"
   ]
  },
  {
   "cell_type": "markdown",
   "metadata": {},
   "source": [
    "### RandomForest classifier with CountVectorizer"
   ]
  },
  {
   "cell_type": "code",
   "execution_count": 18,
   "metadata": {},
   "outputs": [
    {
     "name": "stdout",
     "output_type": "stream",
     "text": [
      "RandomForestClassifer with Accuracy: 68.1082140447099%\n"
     ]
    }
   ],
   "source": [
    "rndm_classifier = RandomForestClassifier(n_jobs=-1, n_estimators=100, verbose=0)\n",
    "results = np.mean(cross_val_score(rndm_classifier, X, y, cv=10))\n",
    "print(\"RandomForestClassifer with Accuracy: {}%\".format(results*100.0))"
   ]
  },
  {
   "cell_type": "code",
   "execution_count": 19,
   "metadata": {},
   "outputs": [
    {
     "name": "stdout",
     "output_type": "stream",
     "text": [
      "Model: \"sequential\"\n",
      "_________________________________________________________________\n",
      "Layer (type)                 Output Shape              Param #   \n",
      "=================================================================\n",
      "dense (Dense)                (None, 64)                753600    \n",
      "_________________________________________________________________\n",
      "batch_normalization (BatchNo (None, 64)                256       \n",
      "_________________________________________________________________\n",
      "dense_1 (Dense)              (None, 32)                2080      \n",
      "_________________________________________________________________\n",
      "batch_normalization_1 (Batch (None, 32)                128       \n",
      "_________________________________________________________________\n",
      "dense_2 (Dense)              (None, 16)                528       \n",
      "_________________________________________________________________\n",
      "batch_normalization_2 (Batch (None, 16)                64        \n",
      "_________________________________________________________________\n",
      "dense_3 (Dense)              (None, 3)                 51        \n",
      "=================================================================\n",
      "Total params: 756,707\n",
      "Trainable params: 756,483\n",
      "Non-trainable params: 224\n",
      "_________________________________________________________________\n"
     ]
    }
   ],
   "source": [
    "model = Sequential()\n",
    "model.add(InputLayer(input_shape=(11774,)))\n",
    "model.add(Dense(64, activation='relu'))\n",
    "model.add(BatchNormalization())\n",
    "model.add(Dense(32, activation='relu'))\n",
    "model.add(BatchNormalization())\n",
    "model.add(Dense(16, activation='relu'))\n",
    "model.add(BatchNormalization())\n",
    "model.add(Dense(3, activation='softmax'))\n",
    "\n",
    "opt = optimizers.Adam(lr=1e-5)\n",
    "# Compile model\n",
    "\n",
    "model.compile(loss='categorical_crossentropy',optimizer=opt,metrics=['accuracy'])\n",
    "\n",
    "# Print summary\n",
    "model.summary()"
   ]
  },
  {
   "cell_type": "code",
   "execution_count": 20,
   "metadata": {},
   "outputs": [
    {
     "name": "stdout",
     "output_type": "stream",
     "text": [
      "Epoch 1/50\n",
      "2312/2312 [==============================] - 11s 5ms/step - loss: 1.4930 - accuracy: 0.3516 - val_loss: 1.6863 - val_accuracy: 0.3619\n",
      "Epoch 2/50\n",
      "2312/2312 [==============================] - 11s 5ms/step - loss: 1.3255 - accuracy: 0.3933 - val_loss: 1.4471 - val_accuracy: 0.4150\n",
      "Epoch 3/50\n",
      "2312/2312 [==============================] - 10s 4ms/step - loss: 1.2122 - accuracy: 0.4443 - val_loss: 1.3532 - val_accuracy: 0.4354\n",
      "Epoch 4/50\n",
      "2312/2312 [==============================] - 10s 4ms/step - loss: 1.1420 - accuracy: 0.4647 - val_loss: 1.2442 - val_accuracy: 0.4725\n",
      "Epoch 5/50\n",
      "2312/2312 [==============================] - 11s 5ms/step - loss: 1.0514 - accuracy: 0.5120 - val_loss: 1.1422 - val_accuracy: 0.4976\n",
      "Epoch 6/50\n",
      "2312/2312 [==============================] - 11s 5ms/step - loss: 1.0001 - accuracy: 0.5298 - val_loss: 1.0808 - val_accuracy: 0.5331\n",
      "Epoch 7/50\n",
      "2312/2312 [==============================] - 11s 5ms/step - loss: 0.9578 - accuracy: 0.5577 - val_loss: 1.0443 - val_accuracy: 0.5396\n",
      "Epoch 8/50\n",
      "2312/2312 [==============================] - 10s 5ms/step - loss: 0.9114 - accuracy: 0.5878 - val_loss: 1.0276 - val_accuracy: 0.5612\n",
      "Epoch 9/50\n",
      "2312/2312 [==============================] - 12s 5ms/step - loss: 0.8724 - accuracy: 0.6047 - val_loss: 0.9748 - val_accuracy: 0.5841\n",
      "Epoch 10/50\n",
      "2312/2312 [==============================] - 10s 4ms/step - loss: 0.8431 - accuracy: 0.6238 - val_loss: 0.9660 - val_accuracy: 0.5837\n",
      "Epoch 11/50\n",
      "2312/2312 [==============================] - 10s 4ms/step - loss: 0.8152 - accuracy: 0.6415 - val_loss: 0.9152 - val_accuracy: 0.6096\n",
      "Epoch 12/50\n",
      "2312/2312 [==============================] - 12s 5ms/step - loss: 0.7978 - accuracy: 0.6534 - val_loss: 0.9001 - val_accuracy: 0.6178\n",
      "Epoch 13/50\n",
      "2312/2312 [==============================] - 10s 4ms/step - loss: 0.7830 - accuracy: 0.6555 - val_loss: 0.8628 - val_accuracy: 0.6360\n",
      "Epoch 14/50\n",
      "2312/2312 [==============================] - 10s 5ms/step - loss: 0.7615 - accuracy: 0.6723 - val_loss: 0.8599 - val_accuracy: 0.6377\n",
      "Epoch 15/50\n",
      "2312/2312 [==============================] - 10s 4ms/step - loss: 0.7348 - accuracy: 0.6837 - val_loss: 0.8225 - val_accuracy: 0.6589\n",
      "Epoch 16/50\n",
      "2312/2312 [==============================] - 10s 5ms/step - loss: 0.7285 - accuracy: 0.6924 - val_loss: 0.8370 - val_accuracy: 0.6498\n",
      "Epoch 17/50\n",
      "2312/2312 [==============================] - 10s 4ms/step - loss: 0.7219 - accuracy: 0.6930 - val_loss: 0.8006 - val_accuracy: 0.6628\n",
      "Epoch 18/50\n",
      "2312/2312 [==============================] - 10s 4ms/step - loss: 0.6892 - accuracy: 0.7085 - val_loss: 0.7941 - val_accuracy: 0.6667\n",
      "Epoch 19/50\n",
      "2312/2312 [==============================] - 10s 4ms/step - loss: 0.6753 - accuracy: 0.7207 - val_loss: 0.7935 - val_accuracy: 0.6688\n",
      "Epoch 20/50\n",
      "2312/2312 [==============================] - 10s 4ms/step - loss: 0.6687 - accuracy: 0.7266 - val_loss: 0.7709 - val_accuracy: 0.6723\n",
      "Epoch 21/50\n",
      "2312/2312 [==============================] - 10s 4ms/step - loss: 0.6553 - accuracy: 0.7280 - val_loss: 0.7821 - val_accuracy: 0.6697\n",
      "Epoch 22/50\n",
      "2312/2312 [==============================] - 10s 4ms/step - loss: 0.6304 - accuracy: 0.7416 - val_loss: 0.7554 - val_accuracy: 0.6853\n",
      "Epoch 23/50\n",
      "2312/2312 [==============================] - 11s 5ms/step - loss: 0.6221 - accuracy: 0.7446 - val_loss: 0.7584 - val_accuracy: 0.6844\n",
      "Epoch 24/50\n",
      "2312/2312 [==============================] - 10s 4ms/step - loss: 0.6213 - accuracy: 0.7443 - val_loss: 0.7473 - val_accuracy: 0.6883\n",
      "Epoch 25/50\n",
      "2312/2312 [==============================] - 10s 4ms/step - loss: 0.6158 - accuracy: 0.7516 - val_loss: 0.7442 - val_accuracy: 0.6891\n",
      "Epoch 26/50\n",
      "2312/2312 [==============================] - 12s 5ms/step - loss: 0.5968 - accuracy: 0.7595 - val_loss: 0.7336 - val_accuracy: 0.6974\n",
      "Epoch 27/50\n",
      "2312/2312 [==============================] - 12s 5ms/step - loss: 0.5826 - accuracy: 0.7690 - val_loss: 0.7455 - val_accuracy: 0.6935\n",
      "Epoch 28/50\n",
      "2312/2312 [==============================] - 11s 5ms/step - loss: 0.5803 - accuracy: 0.7679 - val_loss: 0.7332 - val_accuracy: 0.7030\n",
      "Epoch 29/50\n",
      "2312/2312 [==============================] - 14s 6ms/step - loss: 0.5530 - accuracy: 0.7827 - val_loss: 0.7379 - val_accuracy: 0.7030\n",
      "Epoch 30/50\n",
      "2312/2312 [==============================] - 14s 6ms/step - loss: 0.5569 - accuracy: 0.7816 - val_loss: 0.7217 - val_accuracy: 0.7056\n",
      "Epoch 31/50\n",
      "2312/2312 [==============================] - 19s 8ms/step - loss: 0.5437 - accuracy: 0.7843 - val_loss: 0.7188 - val_accuracy: 0.7099\n",
      "Epoch 32/50\n",
      "2312/2312 [==============================] - 22s 9ms/step - loss: 0.5311 - accuracy: 0.7953 - val_loss: 0.7234 - val_accuracy: 0.7095\n",
      "Epoch 33/50\n",
      "2312/2312 [==============================] - 14s 6ms/step - loss: 0.5320 - accuracy: 0.7922 - val_loss: 0.7200 - val_accuracy: 0.7151\n",
      "Epoch 34/50\n",
      "2312/2312 [==============================] - 15s 6ms/step - loss: 0.5406 - accuracy: 0.7851 - val_loss: 0.7338 - val_accuracy: 0.7034\n",
      "Epoch 35/50\n",
      "2312/2312 [==============================] - 14s 6ms/step - loss: 0.5164 - accuracy: 0.7974 - val_loss: 0.7353 - val_accuracy: 0.7064\n",
      "Epoch 36/50\n",
      "2312/2312 [==============================] - 11s 5ms/step - loss: 0.5144 - accuracy: 0.7958 - val_loss: 0.7382 - val_accuracy: 0.7112\n",
      "Epoch 37/50\n",
      "2312/2312 [==============================] - 12s 5ms/step - loss: 0.4959 - accuracy: 0.8142 - val_loss: 0.7278 - val_accuracy: 0.7164\n",
      "Epoch 38/50\n",
      "2312/2312 [==============================] - 11s 5ms/step - loss: 0.4936 - accuracy: 0.8091 - val_loss: 0.7421 - val_accuracy: 0.7142\n",
      "Epoch 39/50\n",
      "2312/2312 [==============================] - 10s 4ms/step - loss: 0.4842 - accuracy: 0.8166 - val_loss: 0.7326 - val_accuracy: 0.7168\n",
      "Epoch 40/50\n",
      "2312/2312 [==============================] - 11s 5ms/step - loss: 0.4694 - accuracy: 0.8253 - val_loss: 0.7423 - val_accuracy: 0.7160\n",
      "Epoch 41/50\n",
      "2312/2312 [==============================] - 11s 5ms/step - loss: 0.4658 - accuracy: 0.8229 - val_loss: 0.7383 - val_accuracy: 0.7173\n",
      "Epoch 42/50\n",
      "2312/2312 [==============================] - 11s 5ms/step - loss: 0.4584 - accuracy: 0.8276 - val_loss: 0.7482 - val_accuracy: 0.7190\n",
      "Epoch 43/50\n",
      "2312/2312 [==============================] - 11s 5ms/step - loss: 0.4570 - accuracy: 0.8258 - val_loss: 0.7386 - val_accuracy: 0.7272\n",
      "Epoch 44/50\n",
      "2312/2312 [==============================] - 10s 4ms/step - loss: 0.4492 - accuracy: 0.8285 - val_loss: 0.7514 - val_accuracy: 0.7272\n",
      "Epoch 45/50\n",
      "2312/2312 [==============================] - 11s 5ms/step - loss: 0.4302 - accuracy: 0.8395 - val_loss: 0.7434 - val_accuracy: 0.7315\n",
      "Epoch 46/50\n",
      "2312/2312 [==============================] - 10s 4ms/step - loss: 0.4295 - accuracy: 0.8389 - val_loss: 0.7594 - val_accuracy: 0.7255\n",
      "Epoch 47/50\n",
      "2312/2312 [==============================] - 11s 5ms/step - loss: 0.4166 - accuracy: 0.8450 - val_loss: 0.7464 - val_accuracy: 0.7281\n",
      "Epoch 48/50\n",
      "2312/2312 [==============================] - 12s 5ms/step - loss: 0.4227 - accuracy: 0.8439 - val_loss: 0.7605 - val_accuracy: 0.7237\n",
      "Epoch 49/50\n",
      "2312/2312 [==============================] - 11s 5ms/step - loss: 0.4229 - accuracy: 0.8427 - val_loss: 0.7665 - val_accuracy: 0.7203\n",
      "Epoch 50/50\n",
      "2312/2312 [==============================] - 10s 4ms/step - loss: 0.4111 - accuracy: 0.8485 - val_loss: 0.7706 - val_accuracy: 0.7229\n"
     ]
    }
   ],
   "source": [
    "hist = model.fit(X_train, y_train, epochs=50, validation_split=0.2,batch_size=4,verbose=True)"
   ]
  },
  {
   "cell_type": "code",
   "execution_count": 21,
   "metadata": {},
   "outputs": [
    {
     "data": {
      "text/plain": [
       "<matplotlib.legend.Legend at 0x1e5728a3340>"
      ]
     },
     "execution_count": 21,
     "metadata": {},
     "output_type": "execute_result"
    },
    {
     "data": {
      "image/png": "[encoded data removed]",
      "text/plain": [
       "<Figure size 1440x1080 with 1 Axes>"
      ]
     },
     "metadata": {},
     "output_type": "display_data"
    }
   ],
   "source": [
    "# Plotting for visuals\n",
    "df_hist = pd.DataFrame(hist.history)\n",
    "plt.plot(df_hist['loss'])\n",
    "plt.plot(df_hist['val_loss'])\n",
    "plt.legend(('Training Loss','Validation Loss'), loc=0)"
   ]
  },
  {
   "cell_type": "code",
   "execution_count": 22,
   "metadata": {},
   "outputs": [
    {
     "data": {
      "text/plain": [
       "{'Train Accuracy (Count Vectorizer)': 90.606,\n",
       " 'Test Accuracy (Count Vectorizer)': 71.394}"
      ]
     },
     "execution_count": 22,
     "metadata": {},
     "output_type": "execute_result"
    }
   ],
   "source": [
    "y_pred = model.predict(X_test)\n",
    "perf = {}\n",
    "result=model.evaluate(X_train,y_train, batch_size=4,verbose=False)\n",
    "perf['Train Accuracy (Count Vectorizer)']=round(result[1]*100,3)\n",
    "result=model.evaluate(X_test,y_test, batch_size=4,verbose=False)\n",
    "perf['Test Accuracy (Count Vectorizer)']=round(result[1]*100,3)\n",
    "\n",
    "perf"
   ]
  },
  {
   "cell_type": "markdown",
   "metadata": {},
   "source": [
    "-----------------------------------------------------------------------------------------------------"
   ]
  },
  {
   "cell_type": "markdown",
   "metadata": {},
   "source": [
    "### 2.TF-IDF Vectorizer"
   ]
  },
  {
   "cell_type": "code",
   "execution_count": 23,
   "metadata": {},
   "outputs": [
    {
     "name": "stdout",
     "output_type": "stream",
     "text": [
      "Number of reviews: 14452\n",
      "Number of features: 11774\n"
     ]
    }
   ],
   "source": [
    "vctzr2 = TfidfVectorizer(analyzer=\"word\", tokenizer=None, preprocessor=None, stop_words=None)\n",
    "features2= vctzr2.fit_transform(processed_reviews).toarray()\n",
    "print(\"Number of reviews: {0}\".format(features2.shape[0]))\n",
    "print(\"Number of features: {0}\".format(features2.shape[1]))"
   ]
  },
  {
   "cell_type": "code",
   "execution_count": 24,
   "metadata": {},
   "outputs": [
    {
     "name": "stdout",
     "output_type": "stream",
     "text": [
      "X Train shape: (11561, 11774)\n",
      "y Train shape: (11561, 3)\n",
      " \n",
      "X test shape: (2891, 11774)\n",
      "y test shape: (2891, 3)\n"
     ]
    }
   ],
   "source": [
    "X = features\n",
    "y = df_final.iloc[:,1:]\n",
    "y=np.array(y)\n",
    "X_train, X_test, y_train, y_test = train_test_split(X,y,test_size=0.20,random_state=SEED, stratify=y)\n",
    "print(\"X Train shape: {}\".format(X_train.shape))\n",
    "print(\"y Train shape: {}\".format(y_train.shape))\n",
    "print(\" \")\n",
    "print(\"X test shape: {}\".format(X_test.shape))\n",
    "print(\"y test shape: {}\".format(y_test.shape))\n"
   ]
  },
  {
   "cell_type": "markdown",
   "metadata": {},
   "source": [
    "### RandomForestClassifier with TF-IDF Vectorizer"
   ]
  },
  {
   "cell_type": "code",
   "execution_count": 25,
   "metadata": {},
   "outputs": [
    {
     "name": "stdout",
     "output_type": "stream",
     "text": [
      "RandomForestClassifer with Accuracy: 68.3713477580439%\n"
     ]
    }
   ],
   "source": [
    "rndm_classifier2 = RandomForestClassifier(n_jobs=-1, n_estimators=100, verbose=0)\n",
    "results2 = np.mean(cross_val_score(rndm_classifier2,X,y,cv=10))\n",
    "print(\"RandomForestClassifer with Accuracy: {}%\".format(results2*100.0))"
   ]
  },
  {
   "cell_type": "code",
   "execution_count": 26,
   "metadata": {},
   "outputs": [
    {
     "name": "stdout",
     "output_type": "stream",
     "text": [
      "Model: \"sequential_1\"\n",
      "_________________________________________________________________\n",
      "Layer (type)                 Output Shape              Param #   \n",
      "=================================================================\n",
      "dense_4 (Dense)              (None, 64)                753600    \n",
      "_________________________________________________________________\n",
      "batch_normalization_3 (Batch (None, 64)                256       \n",
      "_________________________________________________________________\n",
      "dense_5 (Dense)              (None, 32)                2080      \n",
      "_________________________________________________________________\n",
      "batch_normalization_4 (Batch (None, 32)                128       \n",
      "_________________________________________________________________\n",
      "dense_6 (Dense)              (None, 16)                528       \n",
      "_________________________________________________________________\n",
      "batch_normalization_5 (Batch (None, 16)                64        \n",
      "_________________________________________________________________\n",
      "dense_7 (Dense)              (None, 3)                 51        \n",
      "=================================================================\n",
      "Total params: 756,707\n",
      "Trainable params: 756,483\n",
      "Non-trainable params: 224\n",
      "_________________________________________________________________\n"
     ]
    }
   ],
   "source": [
    "model = Sequential()\n",
    "model.add(InputLayer(input_shape=(11774,)))\n",
    "model.add(Dense(64, activation='relu'))\n",
    "model.add(BatchNormalization())\n",
    "model.add(Dense(32, activation='relu'))\n",
    "model.add(BatchNormalization())\n",
    "model.add(Dense(16, activation='relu'))\n",
    "model.add(BatchNormalization())\n",
    "model.add(Dense(3, activation='softmax'))\n",
    "\n",
    "opt = optimizers.Adam(lr=1e-5)\n",
    "# Compile model\n",
    "\n",
    "model.compile(loss='categorical_crossentropy',optimizer=opt,metrics=['accuracy'])\n",
    "\n",
    "# Print summary\n",
    "model.summary()"
   ]
  },
  {
   "cell_type": "code",
   "execution_count": 27,
   "metadata": {},
   "outputs": [
    {
     "name": "stdout",
     "output_type": "stream",
     "text": [
      "Epoch 1/50\n",
      "2312/2312 [==============================] - 10s 4ms/step - loss: 1.4545 - accuracy: 0.3328 - val_loss: 1.6267 - val_accuracy: 0.3653\n",
      "Epoch 2/50\n",
      "2312/2312 [==============================] - 9s 4ms/step - loss: 1.3149 - accuracy: 0.3737 - val_loss: 1.5361 - val_accuracy: 0.4077\n",
      "Epoch 3/50\n",
      "2312/2312 [==============================] - 9s 4ms/step - loss: 1.2125 - accuracy: 0.4098 - val_loss: 1.3507 - val_accuracy: 0.4436\n",
      "Epoch 4/50\n",
      "2312/2312 [==============================] - 10s 4ms/step - loss: 1.1339 - accuracy: 0.4497 - val_loss: 1.2544 - val_accuracy: 0.4656\n",
      "Epoch 5/50\n",
      "2312/2312 [==============================] - 9s 4ms/step - loss: 1.0624 - accuracy: 0.4872 - val_loss: 1.1745 - val_accuracy: 0.4911\n",
      "Epoch 6/50\n",
      "2312/2312 [==============================] - 9s 4ms/step - loss: 1.0035 - accuracy: 0.5165 - val_loss: 1.1428 - val_accuracy: 0.5102\n",
      "Epoch 7/50\n",
      "2312/2312 [==============================] - 9s 4ms/step - loss: 0.9614 - accuracy: 0.5370 - val_loss: 1.0731 - val_accuracy: 0.5365\n",
      "Epoch 8/50\n",
      "2312/2312 [==============================] - 10s 4ms/step - loss: 0.9299 - accuracy: 0.5583 - val_loss: 1.0772 - val_accuracy: 0.5378\n",
      "Epoch 9/50\n",
      "2312/2312 [==============================] - 9s 4ms/step - loss: 0.8987 - accuracy: 0.5794 - val_loss: 0.9971 - val_accuracy: 0.5616\n",
      "Epoch 10/50\n",
      "2312/2312 [==============================] - 10s 4ms/step - loss: 0.8764 - accuracy: 0.6028 - val_loss: 0.9495 - val_accuracy: 0.5824\n",
      "Epoch 11/50\n",
      "2312/2312 [==============================] - 10s 4ms/step - loss: 0.8413 - accuracy: 0.6199 - val_loss: 0.9431 - val_accuracy: 0.5962\n",
      "Epoch 12/50\n",
      "2312/2312 [==============================] - 10s 4ms/step - loss: 0.8152 - accuracy: 0.6396 - val_loss: 0.8837 - val_accuracy: 0.6139\n",
      "Epoch 13/50\n",
      "2312/2312 [==============================] - 9s 4ms/step - loss: 0.7872 - accuracy: 0.6540 - val_loss: 0.8953 - val_accuracy: 0.6165\n",
      "Epoch 14/50\n",
      "2312/2312 [==============================] - 9s 4ms/step - loss: 0.7779 - accuracy: 0.6615 - val_loss: 0.8838 - val_accuracy: 0.6152\n",
      "Epoch 15/50\n",
      "2312/2312 [==============================] - 9s 4ms/step - loss: 0.7566 - accuracy: 0.6646 - val_loss: 0.8608 - val_accuracy: 0.6291\n",
      "Epoch 16/50\n",
      "2312/2312 [==============================] - 10s 4ms/step - loss: 0.7429 - accuracy: 0.6792 - val_loss: 0.8521 - val_accuracy: 0.6269\n",
      "Epoch 17/50\n",
      "2312/2312 [==============================] - 10s 4ms/step - loss: 0.7261 - accuracy: 0.6849 - val_loss: 0.8283 - val_accuracy: 0.6455\n",
      "Epoch 18/50\n",
      "2312/2312 [==============================] - 9s 4ms/step - loss: 0.7150 - accuracy: 0.6943 - val_loss: 0.8163 - val_accuracy: 0.6485\n",
      "Epoch 19/50\n",
      "2312/2312 [==============================] - 10s 4ms/step - loss: 0.6923 - accuracy: 0.7102 - val_loss: 0.8185 - val_accuracy: 0.6554\n",
      "Epoch 20/50\n",
      "2312/2312 [==============================] - 10s 4ms/step - loss: 0.6845 - accuracy: 0.7106 - val_loss: 0.7985 - val_accuracy: 0.6585\n",
      "Epoch 21/50\n",
      "2312/2312 [==============================] - 9s 4ms/step - loss: 0.6699 - accuracy: 0.7191 - val_loss: 0.7922 - val_accuracy: 0.6671\n",
      "Epoch 22/50\n",
      "2312/2312 [==============================] - 9s 4ms/step - loss: 0.6561 - accuracy: 0.7262 - val_loss: 0.7852 - val_accuracy: 0.6658\n",
      "Epoch 23/50\n",
      "2312/2312 [==============================] - 10s 4ms/step - loss: 0.6497 - accuracy: 0.7250 - val_loss: 0.7831 - val_accuracy: 0.6740\n",
      "Epoch 24/50\n",
      "2312/2312 [==============================] - 10s 4ms/step - loss: 0.6261 - accuracy: 0.7394 - val_loss: 0.7806 - val_accuracy: 0.6788\n",
      "Epoch 25/50\n",
      "2312/2312 [==============================] - 9s 4ms/step - loss: 0.6284 - accuracy: 0.7391 - val_loss: 0.7557 - val_accuracy: 0.6866\n",
      "Epoch 26/50\n",
      "2312/2312 [==============================] - 10s 4ms/step - loss: 0.6051 - accuracy: 0.7544 - val_loss: 0.7639 - val_accuracy: 0.6870\n",
      "Epoch 27/50\n",
      "2312/2312 [==============================] - 10s 4ms/step - loss: 0.6026 - accuracy: 0.7579 - val_loss: 0.7675 - val_accuracy: 0.6874\n",
      "Epoch 28/50\n",
      "2312/2312 [==============================] - 10s 4ms/step - loss: 0.5890 - accuracy: 0.7636 - val_loss: 0.7609 - val_accuracy: 0.6853\n",
      "Epoch 29/50\n",
      "2312/2312 [==============================] - 11s 5ms/step - loss: 0.5856 - accuracy: 0.7686 - val_loss: 0.7663 - val_accuracy: 0.6844\n",
      "Epoch 30/50\n",
      "2312/2312 [==============================] - 10s 4ms/step - loss: 0.5805 - accuracy: 0.7687 - val_loss: 0.7555 - val_accuracy: 0.6848\n",
      "Epoch 31/50\n",
      "2312/2312 [==============================] - 11s 5ms/step - loss: 0.5635 - accuracy: 0.7757 - val_loss: 0.7512 - val_accuracy: 0.6909\n",
      "Epoch 32/50\n",
      "2312/2312 [==============================] - 10s 4ms/step - loss: 0.5599 - accuracy: 0.7784 - val_loss: 0.7656 - val_accuracy: 0.6922\n",
      "Epoch 33/50\n",
      "2312/2312 [==============================] - 10s 4ms/step - loss: 0.5399 - accuracy: 0.7905 - val_loss: 0.7575 - val_accuracy: 0.6891\n",
      "Epoch 34/50\n",
      "2312/2312 [==============================] - 11s 5ms/step - loss: 0.5374 - accuracy: 0.7883 - val_loss: 0.7495 - val_accuracy: 0.6943\n",
      "Epoch 35/50\n",
      "2312/2312 [==============================] - 11s 5ms/step - loss: 0.5210 - accuracy: 0.7965 - val_loss: 0.7508 - val_accuracy: 0.6952\n",
      "Epoch 36/50\n",
      "2312/2312 [==============================] - 10s 5ms/step - loss: 0.5229 - accuracy: 0.7974 - val_loss: 0.7522 - val_accuracy: 0.6991\n",
      "Epoch 37/50\n",
      "2312/2312 [==============================] - 11s 5ms/step - loss: 0.5160 - accuracy: 0.7989 - val_loss: 0.7587 - val_accuracy: 0.6982\n",
      "Epoch 38/50\n",
      "2312/2312 [==============================] - 13s 6ms/step - loss: 0.5009 - accuracy: 0.8058 - val_loss: 0.7684 - val_accuracy: 0.7008\n",
      "Epoch 39/50\n",
      "2312/2312 [==============================] - 11s 5ms/step - loss: 0.4988 - accuracy: 0.8040 - val_loss: 0.7568 - val_accuracy: 0.7038\n",
      "Epoch 40/50\n",
      "2312/2312 [==============================] - 14s 6ms/step - loss: 0.4828 - accuracy: 0.8169 - val_loss: 0.7697 - val_accuracy: 0.7008\n",
      "Epoch 41/50\n",
      "2312/2312 [==============================] - 13s 6ms/step - loss: 0.4804 - accuracy: 0.8150 - val_loss: 0.7520 - val_accuracy: 0.7030\n",
      "Epoch 42/50\n",
      "2312/2312 [==============================] - 11s 5ms/step - loss: 0.4578 - accuracy: 0.8290 - val_loss: 0.7609 - val_accuracy: 0.7112\n",
      "Epoch 43/50\n",
      "2312/2312 [==============================] - 12s 5ms/step - loss: 0.4691 - accuracy: 0.8219 - val_loss: 0.7816 - val_accuracy: 0.6974\n",
      "Epoch 44/50\n",
      "2312/2312 [==============================] - 12s 5ms/step - loss: 0.4444 - accuracy: 0.8357 - val_loss: 0.7642 - val_accuracy: 0.7086\n",
      "Epoch 45/50\n",
      "2312/2312 [==============================] - 10s 4ms/step - loss: 0.4520 - accuracy: 0.8242 - val_loss: 0.7592 - val_accuracy: 0.7060\n",
      "Epoch 46/50\n",
      "2312/2312 [==============================] - 11s 5ms/step - loss: 0.4379 - accuracy: 0.8325 - val_loss: 0.7768 - val_accuracy: 0.7099\n",
      "Epoch 47/50\n",
      "2312/2312 [==============================] - 10s 4ms/step - loss: 0.4303 - accuracy: 0.8408 - val_loss: 0.7885 - val_accuracy: 0.7008\n",
      "Epoch 48/50\n",
      "2312/2312 [==============================] - 10s 4ms/step - loss: 0.4231 - accuracy: 0.8471 - val_loss: 0.7732 - val_accuracy: 0.7181\n",
      "Epoch 49/50\n",
      "2312/2312 [==============================] - 10s 4ms/step - loss: 0.4283 - accuracy: 0.8422 - val_loss: 0.7991 - val_accuracy: 0.6952\n",
      "Epoch 50/50\n",
      "2312/2312 [==============================] - 10s 4ms/step - loss: 0.4158 - accuracy: 0.8476 - val_loss: 0.7844 - val_accuracy: 0.7103\n"
     ]
    }
   ],
   "source": [
    "hist = model.fit(X_train, y_train, epochs=50, validation_split=0.2,batch_size=4,verbose=True)"
   ]
  },
  {
   "cell_type": "code",
   "execution_count": 28,
   "metadata": {},
   "outputs": [
    {
     "data": {
      "text/plain": [
       "<matplotlib.legend.Legend at 0x1e57288bfa0>"
      ]
     },
     "execution_count": 28,
     "metadata": {},
     "output_type": "execute_result"
    },
    {
     "data": {
      "image/png": "[encoded data removed]",
      "text/plain": [
       "<Figure size 1440x1080 with 1 Axes>"
      ]
     },
     "metadata": {},
     "output_type": "display_data"
    }
   ],
   "source": [
    "df_hist = pd.DataFrame(hist.history)\n",
    "plt.plot(df_hist['loss'])\n",
    "plt.plot(df_hist['val_loss'])\n",
    "plt.legend(('Training Loss','Validation Loss'), loc=0)"
   ]
  },
  {
   "cell_type": "code",
   "execution_count": 29,
   "metadata": {},
   "outputs": [
    {
     "data": {
      "text/plain": [
       "{'Train Accuracy (Count Vectorizer)': 90.183,\n",
       " 'Test Accuracy (Count Vectorizer)': 72.224}"
      ]
     },
     "execution_count": 29,
     "metadata": {},
     "output_type": "execute_result"
    }
   ],
   "source": [
    "y_pred = model.predict(X_test)\n",
    "perf = {}\n",
    "result=model.evaluate(X_train,y_train, batch_size=4,verbose=False)\n",
    "perf['Train Accuracy (Count Vectorizer)']=round(result[1]*100,3)\n",
    "result=model.evaluate(X_test,y_test, batch_size=4,verbose=False)\n",
    "perf['Test Accuracy (Count Vectorizer)']=round(result[1]*100,3)\n",
    "\n",
    "perf"
   ]
  },
  {
   "cell_type": "markdown",
   "metadata": {},
   "source": [
    "-----------------------------------------------------------------------------------"
   ]
  },
  {
   "cell_type": "markdown",
   "metadata": {},
   "source": [
    "## 6. Summarize your understanding of the application of Various Pre-processing and Vectorization and performance of your model on this dataset"
   ]
  },
  {
   "cell_type": "markdown",
   "metadata": {},
   "source": [
    "We used dataset which has reviews in text format and their sentiment score on the scale of 1 to 3.\n",
    "\n",
    "The goal was to build a model for text-classification.\n",
    "\n",
    "We Pre-processed the data using variuos techniques and libraries.\n",
    "\n",
    "The pre-precessed data is converted to numbers, so that we can feed the data in the model.\n",
    "\n",
    "After building the classification model, we predicted the result for the test data.\n",
    "\n",
    "After that we saw that using the above techniques, our model performed good in perspective of how the text classification models perform.\n",
    "\n",
    "One more way to increase accuracy is to use different variations of Pre-processing techniques."
   ]
  },
  {
   "cell_type": "markdown",
   "metadata": {},
   "source": [
    "These tweets as has some special characters and some punctuations. \n",
    "\n",
    "Since this is the website data, they are likely to have some URLs and also some HTML code in it. \n",
    "\n",
    "When we are training our models, this kind of information might mislead the prediction, in other words they can make our model perform bad. To resolve this, \n",
    "\n",
    "We have applied several preprocessing steps. First, the tweets are cleaned with the library called BeautifuSoup. This library would remove HTML content from the tweets. \n",
    "\n",
    "the tweets are processed from the removal of the special characters and punctuations. This will remove the special characters like '@'. The tweets are then processed from removal of accented characters and removal of URLs. \n",
    "\n",
    "Once this is done, tokenizer is applied which will convert the words in the lower case and make all the tweets in the same cases.\n",
    "\n",
    "Lemmatization is used to convert the words to their respective meanings for better understanding. These would preserve the essence of the sentence\n",
    "\n",
    "\n",
    "Once above pre-processing steps are done, the vectorization methods like \n",
    "#### CountVectorizer and \n",
    "#### TF-IDFVectorizer\n",
    "\n",
    "\n",
    "Both Vectorizer are very different from each other. \n",
    "\n",
    "CountVectorizer use bag of words method. CountVectorizer doesn't remember the placement of the words or we can also say it doesn't preserve the meaning of the sentence. \n",
    "\n",
    "It is comparitively faster than other vectorizer but it's hard to predict because of the loss of context. \n",
    "\n",
    "TfidfVectorizer, it preserves the context of the sentence. \n",
    "\n",
    "Performance of the model: Based on the above computation, achieved around 70% Test accuracy using the TF-IDF Vectorizer. \n",
    "\n",
    "We can see RandomForestClassifer performs better with TF-IDF Vectorizer. With the DNN, the CountVectorizer tends to overfit the mode. Tried only two model are shown here but we can apply different classifiers and see what performs better. \n",
    "\n",
    "Hence, for the given sentiment analysis, \n",
    "\n",
    "##### TF-IDF Venctorizer with DNN yields good results."
   ]
  },
  {
   "cell_type": "code",
   "execution_count": null,
   "metadata": {},
   "outputs": [],
   "source": []
  },
  {
   "cell_type": "code",
   "execution_count": null,
   "metadata": {},
   "outputs": [],
   "source": []
  },
  {
   "cell_type": "code",
   "execution_count": null,
   "metadata": {},
   "outputs": [],
   "source": []
  },
  {
   "cell_type": "code",
   "execution_count": null,
   "metadata": {},
   "outputs": [],
   "source": []
  },
  {
   "cell_type": "code",
   "execution_count": null,
   "metadata": {},
   "outputs": [],
   "source": []
  }
 ],
 "metadata": {
  "kernelspec": {
   "display_name": "Python 3",
   "language": "python",
   "name": "python3"
  },
  "language_info": {
   "codemirror_mode": {
    "name": "ipython",
    "version": 3
   },
   "file_extension": ".py",
   "mimetype": "text/x-python",
   "name": "python",
   "nbconvert_exporter": "python",
   "pygments_lexer": "ipython3",
   "version": "3.8.3"
  }
 },
 "nbformat": 4,
 "nbformat_minor": 4
}
